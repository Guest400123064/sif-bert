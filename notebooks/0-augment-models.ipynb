{
 "cells": [
  {
   "cell_type": "code",
   "execution_count": 1,
   "metadata": {},
   "outputs": [
    {
     "name": "stderr",
     "output_type": "stream",
     "text": [
      "Using custom data configuration mteb--stsbenchmark-sts-998a21523b45a16a\n",
      "Found cached dataset json (/home/dogdog/.cache/huggingface/datasets/mteb___json/mteb--stsbenchmark-sts-998a21523b45a16a/0.0.0/0f7e3662623656454fcd2b650f34e886a7db4b9104504885bd462096cc7a9f51)\n",
      "Found cached dataset sick (/home/dogdog/.cache/huggingface/datasets/sick/default/0.0.0/c6b3b0b44eb84b134851396d6d464e5cb8f026960519d640e087fe33472626db)\n",
      "Found cached dataset wikitext (/home/dogdog/.cache/huggingface/datasets/wikitext/wikitext-2-v1/1.0.0/a241db52902eaf2c6aa732210bead40c090019a499ceb13bcbfa3f8ab646a126)\n"
     ]
    },
    {
     "data": {
      "application/vnd.jupyter.widget-view+json": {
       "model_id": "ef2a205a63c64271b6601314fbaa4b45",
       "version_major": 2,
       "version_minor": 0
      },
      "text/plain": [
       "  0%|          | 0/3 [00:00<?, ?it/s]"
      ]
     },
     "metadata": {},
     "output_type": "display_data"
    }
   ],
   "source": [
    "import sys\n",
    "sys.path.append(\"..\")\n",
    "\n",
    "import torch\n",
    "\n",
    "from sentence_transformers import SentenceTransformer\n",
    "from sentence_transformers.evaluation import EmbeddingSimilarityEvaluator\n",
    "from sentence_transformers.models import Transformer, Pooling\n",
    "\n",
    "from datasets import load_dataset, get_dataset_config_names\n",
    "\n",
    "from src.models import SIFPooling, BatchPCRemoval\n",
    "\n",
    "\n",
    "data_stsb = load_dataset(\"mteb/stsbenchmark-sts\", split=\"test\")\n",
    "eval_stsb = EmbeddingSimilarityEvaluator(sentences1=data_stsb[\"sentence1\"], \n",
    "                                         sentences2=data_stsb[\"sentence2\"], \n",
    "                                         scores=data_stsb[\"score\"], \n",
    "                                         name=\"stsb\",\n",
    "                                         write_csv=False,\n",
    "                                         batch_size=512)\n",
    "\n",
    "data_sick = load_dataset(\"sick\", split=\"test\")\n",
    "eval_sick = EmbeddingSimilarityEvaluator(sentences1=data_sick[\"sentence_A\"],\n",
    "                                         sentences2=data_sick[\"sentence_B\"],\n",
    "                                         scores=data_sick[\"relatedness_score\"],\n",
    "                                         name=\"sick\",\n",
    "                                         write_csv=False,\n",
    "                                         batch_size=512)\n",
    "\n",
    "# Load wiki-text-2 to estimate the word frequencies\n",
    "corpus = load_dataset(\"wikitext\", \"wikitext-2-v1\")\n",
    "corpus = [s.strip() for p in corpus.values() for s in p[\"text\"]\n",
    "            if s.strip() != \"\" and not s.strip().startswith(\"=\")]"
   ]
  },
  {
   "cell_type": "code",
   "execution_count": 2,
   "metadata": {},
   "outputs": [
    {
     "name": "stderr",
     "output_type": "stream",
     "text": [
      "Some weights of the model checkpoint at distilbert-base-uncased were not used when initializing DistilBertModel: ['vocab_transform.bias', 'vocab_layer_norm.weight', 'vocab_projector.bias', 'vocab_layer_norm.bias', 'vocab_transform.weight', 'vocab_projector.weight']\n",
      "- This IS expected if you are initializing DistilBertModel from the checkpoint of a model trained on another task or with another architecture (e.g. initializing a BertForSequenceClassification model from a BertForPreTraining model).\n",
      "- This IS NOT expected if you are initializing DistilBertModel from the checkpoint of a model that you expect to be exactly identical (initializing a BertForSequenceClassification model from a BertForSequenceClassification model).\n"
     ]
    }
   ],
   "source": [
    "model_card = \"distilbert-base-uncased\"\n",
    "\n",
    "embedding_layer = Transformer(model_card)\n",
    "normal_pooling_layer = Pooling(embedding_layer.get_word_embedding_dimension(), pooling_mode=\"mean\")\n",
    "weighted_pooling_layer = SIFPooling.from_corpus_hf(model_card, corpus)\n",
    "batch_pc_removal_layer = BatchPCRemoval(n_components=1)\n",
    "\n",
    "model_b = SentenceTransformer(modules=[embedding_layer, normal_pooling_layer])\n",
    "model_w = SentenceTransformer(modules=[embedding_layer, weighted_pooling_layer])\n",
    "model_r = SentenceTransformer(modules=[embedding_layer, weighted_pooling_layer, batch_pc_removal_layer])"
   ]
  },
  {
   "cell_type": "code",
   "execution_count": 3,
   "metadata": {},
   "outputs": [
    {
     "data": {
      "text/plain": [
       "0.6368024616834773"
      ]
     },
     "execution_count": 3,
     "metadata": {},
     "output_type": "execute_result"
    }
   ],
   "source": [
    "eval_sick(model_b, output_path=\".\")"
   ]
  },
  {
   "cell_type": "code",
   "execution_count": 4,
   "metadata": {},
   "outputs": [
    {
     "data": {
      "text/plain": [
       "0.6614225828406428"
      ]
     },
     "execution_count": 4,
     "metadata": {},
     "output_type": "execute_result"
    }
   ],
   "source": [
    "eval_sick(model_w, output_path=\".\")"
   ]
  },
  {
   "cell_type": "code",
   "execution_count": 5,
   "metadata": {},
   "outputs": [
    {
     "data": {
      "text/plain": [
       "0.6755694201801812"
      ]
     },
     "execution_count": 5,
     "metadata": {},
     "output_type": "execute_result"
    }
   ],
   "source": [
    "eval_sick(model_r, output_path=\".\")"
   ]
  },
  {
   "cell_type": "code",
   "execution_count": null,
   "metadata": {},
   "outputs": [],
   "source": []
  }
 ],
 "metadata": {
  "kernelspec": {
   "display_name": "conceptor",
   "language": "python",
   "name": "python3"
  },
  "language_info": {
   "codemirror_mode": {
    "name": "ipython",
    "version": 3
   },
   "file_extension": ".py",
   "mimetype": "text/x-python",
   "name": "python",
   "nbconvert_exporter": "python",
   "pygments_lexer": "ipython3",
   "version": "3.8.15"
  },
  "orig_nbformat": 4,
  "vscode": {
   "interpreter": {
    "hash": "458244594d2cffc8461b9ca601e91cdf31df118d80684fec69912c05d67471fc"
   }
  }
 },
 "nbformat": 4,
 "nbformat_minor": 2
}
