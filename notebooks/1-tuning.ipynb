{
 "cells": [
  {
   "cell_type": "code",
   "execution_count": 10,
   "metadata": {},
   "outputs": [
    {
     "name": "stderr",
     "output_type": "stream",
     "text": [
      "Found cached dataset wikitext (/home/dogdog/.cache/huggingface/datasets/wikitext/wikitext-2-v1/1.0.0/a241db52902eaf2c6aa732210bead40c090019a499ceb13bcbfa3f8ab646a126)\n"
     ]
    },
    {
     "data": {
      "application/vnd.jupyter.widget-view+json": {
       "model_id": "519d024e676444bca614e8f8d43ad5fa",
       "version_major": 2,
       "version_minor": 0
      },
      "text/plain": [
       "  0%|          | 0/3 [00:00<?, ?it/s]"
      ]
     },
     "metadata": {},
     "output_type": "display_data"
    }
   ],
   "source": [
    "import sys\n",
    "sys.path.append(\"..\")\n",
    "\n",
    "import os\n",
    "from pathlib import Path\n",
    "PROJ_DIR = Path(os.getcwd()).parent\n",
    "CKPT_DIR = PROJ_DIR / \"checkpoints\"\n",
    "\n",
    "import math\n",
    "\n",
    "import torch\n",
    "from torch.utils.data import DataLoader\n",
    "\n",
    "from sentence_transformers import SentenceTransformer, SentencesDataset\n",
    "from sentence_transformers.readers import InputExample\n",
    "from sentence_transformers.evaluation import EmbeddingSimilarityEvaluator\n",
    "from sentence_transformers.models import Transformer, Pooling\n",
    "from sentence_transformers.losses import SoftmaxLoss\n",
    "\n",
    "from datasets import load_dataset, get_dataset_config_names\n",
    "\n",
    "from src.models import SIFPooling, BatchPCRemoval, MeanPooling\n",
    "\n",
    "\n",
    "# Load wiki-text-2 to estimate the word frequencies\n",
    "corpus = load_dataset(\"wikitext\", \"wikitext-2-v1\")\n",
    "corpus = [s.strip() for p in corpus.values() for s in p[\"text\"]\n",
    "            if s.strip() != \"\" and not s.strip().startswith(\"=\")]"
   ]
  },
  {
   "attachments": {},
   "cell_type": "markdown",
   "metadata": {},
   "source": [
    "## __Create Raw Models (Untrained)__"
   ]
  },
  {
   "cell_type": "code",
   "execution_count": 11,
   "metadata": {},
   "outputs": [],
   "source": [
    "# model_card = \"bert-base-uncased\"\n",
    "model_card = \"nreimers/MiniLM-L6-H384-uncased\"\n",
    "model_card_avg = f\"{model_card}-avg\"\n",
    "model_card_sif = f\"{model_card}-sif\"\n",
    "model_card_arm = f\"{model_card}-arm\"\n",
    "model_card_srm = f\"{model_card}-srm\"\n",
    "\n",
    "embedding_layer        = Transformer(model_card, tokenizer_args={\"use_fast\": True, \"truncation\": True})\n",
    "normal_pooling_layer   = MeanPooling(embedding_layer.get_word_embedding_dimension())\n",
    "weighted_pooling_layer = SIFPooling.from_corpus_hf(embedding_layer.get_word_embedding_dimension(), model_card, corpus)\n",
    "batch_pc_removal_layer = BatchPCRemoval(embedding_layer.get_word_embedding_dimension(), n_components=1)"
   ]
  },
  {
   "cell_type": "code",
   "execution_count": 12,
   "metadata": {},
   "outputs": [],
   "source": [
    "SentenceTransformer(modules=[embedding_layer, normal_pooling_layer]).save(str(CKPT_DIR / \"untrained\" / model_card_avg))\n",
    "SentenceTransformer(modules=[embedding_layer, weighted_pooling_layer]).save(str(CKPT_DIR / \"untrained\" / model_card_sif))\n",
    "SentenceTransformer(modules=[embedding_layer, normal_pooling_layer, batch_pc_removal_layer]).save(str(CKPT_DIR / \"untrained\" / model_card_arm))\n",
    "SentenceTransformer(modules=[embedding_layer, weighted_pooling_layer, batch_pc_removal_layer]).save(str(CKPT_DIR / \"untrained\" / model_card_srm))"
   ]
  },
  {
   "cell_type": "code",
   "execution_count": null,
   "metadata": {},
   "outputs": [],
   "source": []
  }
 ],
 "metadata": {
  "kernelspec": {
   "display_name": "conceptor",
   "language": "python",
   "name": "python3"
  },
  "language_info": {
   "codemirror_mode": {
    "name": "ipython",
    "version": 3
   },
   "file_extension": ".py",
   "mimetype": "text/x-python",
   "name": "python",
   "nbconvert_exporter": "python",
   "pygments_lexer": "ipython3",
   "version": "3.8.15"
  },
  "orig_nbformat": 4,
  "vscode": {
   "interpreter": {
    "hash": "458244594d2cffc8461b9ca601e91cdf31df118d80684fec69912c05d67471fc"
   }
  }
 },
 "nbformat": 4,
 "nbformat_minor": 2
}
