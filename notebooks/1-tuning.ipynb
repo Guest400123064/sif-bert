{
 "cells": [
  {
   "cell_type": "code",
   "execution_count": 1,
   "metadata": {},
   "outputs": [
    {
     "name": "stderr",
     "output_type": "stream",
     "text": [
      "Found cached dataset wikitext (/home/dogdog/.cache/huggingface/datasets/wikitext/wikitext-2-v1/1.0.0/a241db52902eaf2c6aa732210bead40c090019a499ceb13bcbfa3f8ab646a126)\n"
     ]
    },
    {
     "data": {
      "application/vnd.jupyter.widget-view+json": {
       "model_id": "d4ad930db4174586a515e802bf04d5b4",
       "version_major": 2,
       "version_minor": 0
      },
      "text/plain": [
       "  0%|          | 0/3 [00:00<?, ?it/s]"
      ]
     },
     "metadata": {},
     "output_type": "display_data"
    }
   ],
   "source": [
    "import sys\n",
    "sys.path.append(\"..\")\n",
    "\n",
    "import os\n",
    "from pathlib import Path\n",
    "PROJ_DIR = Path(os.getcwd()).parent\n",
    "CKPT_DIR = PROJ_DIR / \"checkpoints\"\n",
    "\n",
    "import torch\n",
    "from torch.utils.data import DataLoader\n",
    "\n",
    "from sentence_transformers import SentenceTransformer, SentencesDataset\n",
    "from sentence_transformers.readers import InputExample\n",
    "from sentence_transformers.evaluation import EmbeddingSimilarityEvaluator\n",
    "from sentence_transformers.models import Transformer, Pooling\n",
    "from sentence_transformers.losses import SoftmaxLoss\n",
    "\n",
    "from datasets import load_dataset, get_dataset_config_names\n",
    "\n",
    "from src.models import SIFPooling, BatchPCRemoval, MeanPooling\n",
    "\n",
    "\n",
    "# Load wiki-text-2 to estimate the word frequencies\n",
    "corpus = load_dataset(\"wikitext\", \"wikitext-2-v1\")\n",
    "corpus = [s.strip() for p in corpus.values() for s in p[\"text\"]\n",
    "            if s.strip() != \"\" and not s.strip().startswith(\"=\")]"
   ]
  },
  {
   "attachments": {},
   "cell_type": "markdown",
   "metadata": {},
   "source": [
    "## __Create Raw Models (Untrained)__"
   ]
  },
  {
   "cell_type": "code",
   "execution_count": 2,
   "metadata": {},
   "outputs": [
    {
     "name": "stderr",
     "output_type": "stream",
     "text": [
      "Some weights of the model checkpoint at bert-base-uncased were not used when initializing BertModel: ['cls.predictions.transform.LayerNorm.weight', 'cls.predictions.decoder.weight', 'cls.predictions.transform.dense.weight', 'cls.predictions.transform.dense.bias', 'cls.seq_relationship.bias', 'cls.predictions.bias', 'cls.predictions.transform.LayerNorm.bias', 'cls.seq_relationship.weight']\n",
      "- This IS expected if you are initializing BertModel from the checkpoint of a model trained on another task or with another architecture (e.g. initializing a BertForSequenceClassification model from a BertForPreTraining model).\n",
      "- This IS NOT expected if you are initializing BertModel from the checkpoint of a model that you expect to be exactly identical (initializing a BertForSequenceClassification model from a BertForSequenceClassification model).\n"
     ]
    }
   ],
   "source": [
    "model_card = \"bert-base-uncased\"\n",
    "model_card_avg = f\"{model_card}-avg\"\n",
    "model_card_sif = f\"{model_card}-sif\"\n",
    "model_card_arm = f\"{model_card}-arm\"\n",
    "model_card_srm = f\"{model_card}-srm\"\n",
    "\n",
    "embedding_layer        = Transformer(model_card)\n",
    "normal_pooling_layer   = MeanPooling()\n",
    "weighted_pooling_layer = SIFPooling.from_corpus_hf(model_card, corpus)\n",
    "batch_pc_removal_layer = BatchPCRemoval(n_components=1)"
   ]
  },
  {
   "cell_type": "code",
   "execution_count": 4,
   "metadata": {},
   "outputs": [],
   "source": [
    "SentenceTransformer(modules=[embedding_layer, normal_pooling_layer]).save(str(CKPT_DIR / \"untrained\" / model_card_avg))\n",
    "SentenceTransformer(modules=[embedding_layer, weighted_pooling_layer]).save(str(CKPT_DIR / \"untrained\" / model_card_sif))\n",
    "SentenceTransformer(modules=[embedding_layer, normal_pooling_layer, batch_pc_removal_layer]).save(str(CKPT_DIR / \"untrained\" / model_card_arm))\n",
    "SentenceTransformer(modules=[embedding_layer, weighted_pooling_layer, batch_pc_removal_layer]).save(str(CKPT_DIR / \"untrained\" / model_card_srm))"
   ]
  },
  {
   "attachments": {},
   "cell_type": "markdown",
   "metadata": {},
   "source": [
    "## __Fine-tuning on AllNLI__"
   ]
  },
  {
   "cell_type": "code",
   "execution_count": 4,
   "metadata": {},
   "outputs": [
    {
     "name": "stderr",
     "output_type": "stream",
     "text": [
      "Found cached dataset snli (/home/dogdog/.cache/huggingface/datasets/snli/plain_text/1.0.0/1f60b67533b65ae0275561ff7828aad5ee4282d0e6f844fd148d05d3c6ea251b)\n"
     ]
    },
    {
     "data": {
      "application/vnd.jupyter.widget-view+json": {
       "model_id": "10d4e42129be4af4a2399484e7d4ff94",
       "version_major": 2,
       "version_minor": 0
      },
      "text/plain": [
       "  0%|          | 0/3 [00:00<?, ?it/s]"
      ]
     },
     "metadata": {},
     "output_type": "display_data"
    }
   ],
   "source": [
    "dataset_snli = load_dataset(\"snli\")\n",
    "train_snli = [InputExample(texts=[s[\"premise\"], s[\"hypothesis\"]], label=s[\"label\"]) \n",
    "                for s in dataset_snli[\"train\"].select(range(8192 * 4)) if s[\"label\"] != -1]\n",
    "train_snli_dataloader = DataLoader(train_snli, shuffle=True, batch_size=16)\n",
    "dev_snli = [InputExample(texts=[s[\"premise\"], s[\"hypothesis\"]], label=s[\"label\"])\n",
    "                for s in dataset_snli[\"validation\"] if s[\"label\"] != -1]\n",
    "dev_evaluator = EmbeddingSimilarityEvaluator.from_input_examples(dev_snli, \n",
    "                                                                 write_csv=False,\n",
    "                                                                 batch_size=16,\n",
    "                                                                 name=\"snli\")"
   ]
  },
  {
   "cell_type": "code",
   "execution_count": 5,
   "metadata": {},
   "outputs": [
    {
     "data": {
      "application/vnd.jupyter.widget-view+json": {
       "model_id": "8f57f67478d542c889cbf02e33464ce6",
       "version_major": 2,
       "version_minor": 0
      },
      "text/plain": [
       "Epoch:   0%|          | 0/1 [00:00<?, ?it/s]"
      ]
     },
     "metadata": {},
     "output_type": "display_data"
    },
    {
     "data": {
      "application/vnd.jupyter.widget-view+json": {
       "model_id": "5c81a8241fc6494b86944599c65dbed1",
       "version_major": 2,
       "version_minor": 0
      },
      "text/plain": [
       "Iteration:   0%|          | 0/2046 [00:00<?, ?it/s]"
      ]
     },
     "metadata": {},
     "output_type": "display_data"
    }
   ],
   "source": [
    "import math\n",
    "\n",
    "\n",
    "warmup_steps = math.ceil(len(train_snli_dataloader) * 1 * 0.1) #10% of train data for warm-up\n",
    "train_snli_loss = SoftmaxLoss(model=model_b, \n",
    "                              sentence_embedding_dimension=768, \n",
    "                              num_labels=3)\n",
    "model_b.fit(train_objectives=[(train_snli_dataloader, train_snli_loss)],\n",
    "            evaluator=dev_evaluator,\n",
    "            epochs=1,\n",
    "            evaluation_steps=256,\n",
    "            warmup_steps=warmup_steps,\n",
    "            output_path=\"../checkpoints/snli/b2\")"
   ]
  },
  {
   "cell_type": "code",
   "execution_count": 6,
   "metadata": {},
   "outputs": [
    {
     "data": {
      "text/plain": [
       "0.5321638583444072"
      ]
     },
     "execution_count": 6,
     "metadata": {},
     "output_type": "execute_result"
    }
   ],
   "source": [
    "model_b = SentenceTransformer(\"../models/snli-b\")\n",
    "eval_sick(model_b, output_path=\".\")"
   ]
  },
  {
   "cell_type": "code",
   "execution_count": 7,
   "metadata": {},
   "outputs": [
    {
     "data": {
      "text/plain": [
       "0.6006418442647867"
      ]
     },
     "execution_count": 7,
     "metadata": {},
     "output_type": "execute_result"
    }
   ],
   "source": [
    "model_b2 = SentenceTransformer(\"../models/snli-b2\")\n",
    "eval_sick(model_b2, output_path=\".\")"
   ]
  },
  {
   "cell_type": "code",
   "execution_count": 8,
   "metadata": {},
   "outputs": [
    {
     "data": {
      "text/plain": [
       "0.5666246597282747"
      ]
     },
     "execution_count": 8,
     "metadata": {},
     "output_type": "execute_result"
    }
   ],
   "source": [
    "eval_stsb(model_b, output_path=\".\")"
   ]
  },
  {
   "cell_type": "code",
   "execution_count": 9,
   "metadata": {},
   "outputs": [
    {
     "data": {
      "text/plain": [
       "0.5730377609762444"
      ]
     },
     "execution_count": 9,
     "metadata": {},
     "output_type": "execute_result"
    }
   ],
   "source": [
    "eval_stsb(model_b2, output_path=\".\")"
   ]
  },
  {
   "cell_type": "code",
   "execution_count": 15,
   "metadata": {},
   "outputs": [
    {
     "data": {
      "text/plain": [
       "0.5301054550908639"
      ]
     },
     "execution_count": 15,
     "metadata": {},
     "output_type": "execute_result"
    }
   ],
   "source": [
    "model_w = SentenceTransformer(\"../models/snli-w\")\n",
    "eval_sick(model_w, output_path=\".\")"
   ]
  },
  {
   "cell_type": "code",
   "execution_count": 16,
   "metadata": {},
   "outputs": [
    {
     "data": {
      "text/plain": [
       "0.5476615084109432"
      ]
     },
     "execution_count": 16,
     "metadata": {},
     "output_type": "execute_result"
    }
   ],
   "source": [
    "eval_stsb(model_w, output_path=\".\")"
   ]
  },
  {
   "cell_type": "code",
   "execution_count": 2,
   "metadata": {},
   "outputs": [
    {
     "data": {
      "text/plain": [
       "0.45502135699433416"
      ]
     },
     "execution_count": 2,
     "metadata": {},
     "output_type": "execute_result"
    }
   ],
   "source": [
    "model_r = SentenceTransformer(\"../models/snli-r\")\n",
    "eval_sick(model_r, output_path=\".\")"
   ]
  },
  {
   "cell_type": "code",
   "execution_count": 21,
   "metadata": {},
   "outputs": [
    {
     "data": {
      "text/plain": [
       "-0.07476983210370843"
      ]
     },
     "execution_count": 21,
     "metadata": {},
     "output_type": "execute_result"
    }
   ],
   "source": [
    "dev_evaluator(model_b)"
   ]
  },
  {
   "cell_type": "code",
   "execution_count": null,
   "metadata": {},
   "outputs": [],
   "source": []
  }
 ],
 "metadata": {
  "kernelspec": {
   "display_name": "conceptor",
   "language": "python",
   "name": "python3"
  },
  "language_info": {
   "codemirror_mode": {
    "name": "ipython",
    "version": 3
   },
   "file_extension": ".py",
   "mimetype": "text/x-python",
   "name": "python",
   "nbconvert_exporter": "python",
   "pygments_lexer": "ipython3",
   "version": "3.8.15"
  },
  "orig_nbformat": 4,
  "vscode": {
   "interpreter": {
    "hash": "458244594d2cffc8461b9ca601e91cdf31df118d80684fec69912c05d67471fc"
   }
  }
 },
 "nbformat": 4,
 "nbformat_minor": 2
}
