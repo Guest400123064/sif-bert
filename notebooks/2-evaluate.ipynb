{
 "cells": [
  {
   "cell_type": "code",
   "execution_count": 2,
   "metadata": {},
   "outputs": [],
   "source": [
    "import sys\n",
    "sys.path.append(\"..\")\n",
    "\n",
    "from sentence_transformers import SentenceTransformer\n",
    "from sentence_transformers.evaluation import EmbeddingSimilarityEvaluator\n",
    "\n",
    "from datasets import load_dataset"
   ]
  },
  {
   "cell_type": "code",
   "execution_count": 3,
   "metadata": {},
   "outputs": [
    {
     "name": "stderr",
     "output_type": "stream",
     "text": [
      "Using custom data configuration mteb--stsbenchmark-sts-998a21523b45a16a\n",
      "Found cached dataset json (/home/dogdog/.cache/huggingface/datasets/mteb___json/mteb--stsbenchmark-sts-998a21523b45a16a/0.0.0/0f7e3662623656454fcd2b650f34e886a7db4b9104504885bd462096cc7a9f51)\n",
      "Found cached dataset sick (/home/dogdog/.cache/huggingface/datasets/sick/default/0.0.0/c6b3b0b44eb84b134851396d6d464e5cb8f026960519d640e087fe33472626db)\n"
     ]
    }
   ],
   "source": [
    "data_stsb = load_dataset(\"mteb/stsbenchmark-sts\", split=\"test\")\n",
    "eval_stsb = EmbeddingSimilarityEvaluator(sentences1=data_stsb[\"sentence1\"], \n",
    "                                         sentences2=data_stsb[\"sentence2\"], \n",
    "                                         scores=data_stsb[\"score\"], \n",
    "                                         name=\"stsb\",\n",
    "                                         write_csv=False,\n",
    "                                         batch_size=512)\n",
    "\n",
    "data_sick = load_dataset(\"sick\", split=\"test\")\n",
    "eval_sick = EmbeddingSimilarityEvaluator(sentences1=data_sick[\"sentence_A\"],\n",
    "                                         sentences2=data_sick[\"sentence_B\"],\n",
    "                                         scores=data_sick[\"relatedness_score\"],\n",
    "                                         name=\"sick\",\n",
    "                                         write_csv=False,\n",
    "                                         batch_size=512)"
   ]
  },
  {
   "cell_type": "code",
   "execution_count": 5,
   "metadata": {},
   "outputs": [
    {
     "name": "stdout",
     "output_type": "stream",
     "text": [
      "model_card: ../checkpoints/untrained/nreimers/MiniLM-L6-H384-uncased-avg\n",
      "STSb performance: 0.5241698295312894\n",
      "SICK performance: 0.5841904546281538\n",
      "=========================================\n",
      "model_card: ../checkpoints/untrained/nreimers/MiniLM-L6-H384-uncased-sif\n",
      "STSb performance: 0.6178492563916609\n",
      "SICK performance: 0.586843903365271\n",
      "=========================================\n",
      "model_card: ../checkpoints/untrained/nreimers/MiniLM-L6-H384-uncased-arm\n",
      "STSb performance: 0.5138083095863308\n",
      "SICK performance: 0.6083543036822678\n",
      "=========================================\n",
      "model_card: ../checkpoints/untrained/nreimers/MiniLM-L6-H384-uncased-srm\n",
      "STSb performance: 0.6035248266251015\n",
      "SICK performance: 0.6154126905336205\n",
      "=========================================\n"
     ]
    }
   ],
   "source": [
    "# model_orig = \"../checkpoints/untrained/bert-base-uncased\"\n",
    "model_orig = \"../checkpoints/untrained/nreimers/MiniLM-L6-H384-uncased\"\n",
    "model_cards = [f\"{model_orig}-avg\",\n",
    "               f\"{model_orig}-sif\",\n",
    "               f\"{model_orig}-arm\",\n",
    "               f\"{model_orig}-srm\"]\n",
    "\n",
    "for model_card in model_cards:\n",
    "    model = SentenceTransformer(model_card)\n",
    "    print(f\"model_card: {model_card}\")\n",
    "    print(f\"STSb performance: {eval_stsb(model)}\")\n",
    "    print(f\"SICK performance: {eval_sick(model)}\")\n",
    "    print(\"=========================================\")"
   ]
  },
  {
   "cell_type": "code",
   "execution_count": 4,
   "metadata": {},
   "outputs": [
    {
     "name": "stdout",
     "output_type": "stream",
     "text": [
      "model_card: ../checkpoints/nli/bert-base-uncased-avg\n",
      "STSb performance: 0.6768577137366575\n",
      "SICK performance: 0.6749811248767795\n",
      "=========================================\n",
      "model_card: ../checkpoints/nli/bert-base-uncased-sif\n",
      "STSb performance: 0.6941710099175592\n",
      "SICK performance: 0.6754199816649973\n",
      "=========================================\n",
      "model_card: ../checkpoints/nli/bert-base-uncased-arm\n",
      "STSb performance: 0.6470333612337285\n",
      "SICK performance: 0.6155619028661182\n",
      "=========================================\n",
      "model_card: ../checkpoints/nli/bert-base-uncased-srm\n",
      "STSb performance: 0.3210459916588555\n",
      "SICK performance: 0.296939986660269\n",
      "=========================================\n"
     ]
    }
   ],
   "source": [
    "model_orig = \"../checkpoints/nli/bert-base-uncased\"\n",
    "model_cards = [f\"{model_orig}-avg\",\n",
    "               f\"{model_orig}-sif\",\n",
    "               f\"{model_orig}-arm\",\n",
    "               f\"{model_orig}-srm\"]\n",
    "\n",
    "for model_card in model_cards:\n",
    "    model = SentenceTransformer(model_card)\n",
    "    print(f\"model_card: {model_card}\")\n",
    "    print(f\"STSb performance: {eval_stsb(model)}\")\n",
    "    print(f\"SICK performance: {eval_sick(model)}\")\n",
    "    print(\"=========================================\")"
   ]
  },
  {
   "cell_type": "code",
   "execution_count": null,
   "metadata": {},
   "outputs": [],
   "source": []
  }
 ],
 "metadata": {
  "kernelspec": {
   "display_name": "conceptor",
   "language": "python",
   "name": "python3"
  },
  "language_info": {
   "codemirror_mode": {
    "name": "ipython",
    "version": 3
   },
   "file_extension": ".py",
   "mimetype": "text/x-python",
   "name": "python",
   "nbconvert_exporter": "python",
   "pygments_lexer": "ipython3",
   "version": "3.8.15 (default, Nov 24 2022, 15:19:38) \n[GCC 11.2.0]"
  },
  "orig_nbformat": 4,
  "vscode": {
   "interpreter": {
    "hash": "458244594d2cffc8461b9ca601e91cdf31df118d80684fec69912c05d67471fc"
   }
  }
 },
 "nbformat": 4,
 "nbformat_minor": 2
}
