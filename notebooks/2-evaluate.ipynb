{
 "cells": [
  {
   "cell_type": "code",
   "execution_count": 1,
   "metadata": {},
   "outputs": [],
   "source": [
    "import sys\n",
    "sys.path.append(\"..\")\n",
    "\n",
    "from sentence_transformers import SentenceTransformer\n",
    "from sentence_transformers.evaluation import EmbeddingSimilarityEvaluator\n",
    "\n",
    "from datasets import load_dataset"
   ]
  },
  {
   "cell_type": "code",
   "execution_count": 2,
   "metadata": {},
   "outputs": [
    {
     "name": "stderr",
     "output_type": "stream",
     "text": [
      "Using custom data configuration mteb--stsbenchmark-sts-998a21523b45a16a\n",
      "Found cached dataset json (/home/dogdog/.cache/huggingface/datasets/mteb___json/mteb--stsbenchmark-sts-998a21523b45a16a/0.0.0/0f7e3662623656454fcd2b650f34e886a7db4b9104504885bd462096cc7a9f51)\n",
      "Found cached dataset sick (/home/dogdog/.cache/huggingface/datasets/sick/default/0.0.0/c6b3b0b44eb84b134851396d6d464e5cb8f026960519d640e087fe33472626db)\n"
     ]
    }
   ],
   "source": [
    "data_stsb = load_dataset(\"mteb/stsbenchmark-sts\", split=\"test\")\n",
    "eval_stsb = EmbeddingSimilarityEvaluator(sentences1=data_stsb[\"sentence1\"], \n",
    "                                         sentences2=data_stsb[\"sentence2\"], \n",
    "                                         scores=data_stsb[\"score\"], \n",
    "                                         name=\"stsb\",\n",
    "                                         write_csv=False,\n",
    "                                         batch_size=512)\n",
    "\n",
    "data_sick = load_dataset(\"sick\", split=\"test\")\n",
    "eval_sick = EmbeddingSimilarityEvaluator(sentences1=data_sick[\"sentence_A\"],\n",
    "                                         sentences2=data_sick[\"sentence_B\"],\n",
    "                                         scores=data_sick[\"relatedness_score\"],\n",
    "                                         name=\"sick\",\n",
    "                                         write_csv=False,\n",
    "                                         batch_size=512)"
   ]
  },
  {
   "cell_type": "code",
   "execution_count": 5,
   "metadata": {},
   "outputs": [],
   "source": [
    "model_orig = \"roberta-base\"\n",
    "model_cards = [f\"../checkpoints/untrained/{model_orig}-avg\",\n",
    "               f\"../checkpoints/untrained/{model_orig}-sif\",\n",
    "               f\"../checkpoints/untrained/{model_orig}-arm\",\n",
    "               f\"../checkpoints/untrained/{model_orig}-srm\"]"
   ]
  },
  {
   "cell_type": "code",
   "execution_count": 7,
   "metadata": {},
   "outputs": [],
   "source": [
    "for model_card in model_cards:\n",
    "    model = SentenceTransformer(model_card)\n",
    "    print(f\"model_card: {model_card}\")\n",
    "    print(f\"STSb performance: {eval_stsb(model)}\")\n",
    "    print(f\"SICK performance: {eval_sick(model)}\")\n",
    "    print(\"=========================================\")"
   ]
  },
  {
   "cell_type": "code",
   "execution_count": null,
   "metadata": {},
   "outputs": [],
   "source": []
  }
 ],
 "metadata": {
  "kernelspec": {
   "display_name": "conceptor",
   "language": "python",
   "name": "python3"
  },
  "language_info": {
   "codemirror_mode": {
    "name": "ipython",
    "version": 3
   },
   "file_extension": ".py",
   "mimetype": "text/x-python",
   "name": "python",
   "nbconvert_exporter": "python",
   "pygments_lexer": "ipython3",
   "version": "3.8.15"
  },
  "orig_nbformat": 4,
  "vscode": {
   "interpreter": {
    "hash": "458244594d2cffc8461b9ca601e91cdf31df118d80684fec69912c05d67471fc"
   }
  }
 },
 "nbformat": 4,
 "nbformat_minor": 2
}
